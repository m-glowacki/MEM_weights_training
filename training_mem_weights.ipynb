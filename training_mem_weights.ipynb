{
 "cells": [
  {
   "cell_type": "code",
   "execution_count": 208,
   "id": "becc73f1",
   "metadata": {},
   "outputs": [],
   "source": [
    "import pandas as pd\n",
    "import uproot\n",
    "import os\n",
    "import numpy as np\n",
    "import torch\n",
    "import torch.nn as nn\n",
    "import torch.optim as optim\n",
    "import pytorch_lightning as pl\n",
    "from torch.utils.data import DataLoader, random_split, TensorDataset\n",
    "import matplotlib.pyplot as plt\n",
    "from pytorch_lightning.callbacks.early_stopping import EarlyStopping\n",
    "from sklearn.preprocessing import StandardScaler\n",
    "from sklearn.model_selection import train_test_split\n",
    "torch.autograd.set_detect_anomaly(True)\n",
    "import awkward as ak"
   ]
  },
  {
   "cell_type": "code",
   "execution_count": 3,
   "id": "d27f9888",
   "metadata": {},
   "outputs": [],
   "source": [
    "df = pd.read_csv('data/concatenated.csv')"
   ]
  },
  {
   "cell_type": "code",
   "execution_count": 76,
   "id": "d321f507",
   "metadata": {},
   "outputs": [],
   "source": [
    "df = df.dropna()"
   ]
  },
  {
   "cell_type": "code",
   "execution_count": 77,
   "id": "6b584719",
   "metadata": {},
   "outputs": [
    {
     "data": {
      "text/html": [
       "<div>\n",
       "<style scoped>\n",
       "    .dataframe tbody tr th:only-of-type {\n",
       "        vertical-align: middle;\n",
       "    }\n",
       "\n",
       "    .dataframe tbody tr th {\n",
       "        vertical-align: top;\n",
       "    }\n",
       "\n",
       "    .dataframe thead th {\n",
       "        text-align: right;\n",
       "    }\n",
       "</style>\n",
       "<table border=\"1\" class=\"dataframe\">\n",
       "  <thead>\n",
       "    <tr style=\"text-align: right;\">\n",
       "      <th></th>\n",
       "      <th>Unnamed: 0</th>\n",
       "      <th>event</th>\n",
       "      <th>run</th>\n",
       "      <th>met_pt</th>\n",
       "      <th>met_phi</th>\n",
       "      <th>met_E</th>\n",
       "      <th>met_Px</th>\n",
       "      <th>met_Py</th>\n",
       "      <th>met_Pz</th>\n",
       "      <th>is_SR</th>\n",
       "      <th>...</th>\n",
       "      <th>total_weight</th>\n",
       "      <th>ls</th>\n",
       "      <th>considered_jets</th>\n",
       "      <th>MEM_weight</th>\n",
       "      <th>MEM_weight_err</th>\n",
       "      <th>MEM_time</th>\n",
       "      <th>MEM_status</th>\n",
       "      <th>del_l2_phi</th>\n",
       "      <th>del_j1_phi</th>\n",
       "      <th>del_j2_phi</th>\n",
       "    </tr>\n",
       "  </thead>\n",
       "  <tbody>\n",
       "    <tr>\n",
       "      <th>0</th>\n",
       "      <td>0</td>\n",
       "      <td>45329285.0</td>\n",
       "      <td>1.0</td>\n",
       "      <td>38.984746</td>\n",
       "      <td>0.305608</td>\n",
       "      <td>38.984745</td>\n",
       "      <td>37.178356</td>\n",
       "      <td>11.729450</td>\n",
       "      <td>0.0</td>\n",
       "      <td>1.0</td>\n",
       "      <td>...</td>\n",
       "      <td>0.873387</td>\n",
       "      <td>229090.0</td>\n",
       "      <td>0</td>\n",
       "      <td>3.918931</td>\n",
       "      <td>5.435769e-23</td>\n",
       "      <td>8.468740</td>\n",
       "      <td>0.0</td>\n",
       "      <td>-5.074219</td>\n",
       "      <td>-3.013184</td>\n",
       "      <td>-0.196777</td>\n",
       "    </tr>\n",
       "    <tr>\n",
       "      <th>1</th>\n",
       "      <td>1</td>\n",
       "      <td>27289755.0</td>\n",
       "      <td>1.0</td>\n",
       "      <td>50.834523</td>\n",
       "      <td>-2.597592</td>\n",
       "      <td>50.834522</td>\n",
       "      <td>-43.496319</td>\n",
       "      <td>-26.310055</td>\n",
       "      <td>0.0</td>\n",
       "      <td>1.0</td>\n",
       "      <td>...</td>\n",
       "      <td>0.751147</td>\n",
       "      <td>137920.0</td>\n",
       "      <td>0</td>\n",
       "      <td>3.947367</td>\n",
       "      <td>2.362927e-23</td>\n",
       "      <td>5.423543</td>\n",
       "      <td>0.0</td>\n",
       "      <td>-0.043945</td>\n",
       "      <td>3.330322</td>\n",
       "      <td>1.355286</td>\n",
       "    </tr>\n",
       "    <tr>\n",
       "      <th>2</th>\n",
       "      <td>2</td>\n",
       "      <td>40361426.0</td>\n",
       "      <td>1.0</td>\n",
       "      <td>25.922679</td>\n",
       "      <td>0.368697</td>\n",
       "      <td>25.922680</td>\n",
       "      <td>24.180618</td>\n",
       "      <td>9.342539</td>\n",
       "      <td>0.0</td>\n",
       "      <td>1.0</td>\n",
       "      <td>...</td>\n",
       "      <td>0.765145</td>\n",
       "      <td>203983.0</td>\n",
       "      <td>0</td>\n",
       "      <td>3.999784</td>\n",
       "      <td>1.917346e-24</td>\n",
       "      <td>2.085152</td>\n",
       "      <td>0.0</td>\n",
       "      <td>-1.685802</td>\n",
       "      <td>-1.770477</td>\n",
       "      <td>-4.159668</td>\n",
       "    </tr>\n",
       "    <tr>\n",
       "      <th>3</th>\n",
       "      <td>3</td>\n",
       "      <td>14023019.0</td>\n",
       "      <td>1.0</td>\n",
       "      <td>37.794698</td>\n",
       "      <td>-2.372525</td>\n",
       "      <td>37.794697</td>\n",
       "      <td>-27.157721</td>\n",
       "      <td>-26.284925</td>\n",
       "      <td>0.0</td>\n",
       "      <td>1.0</td>\n",
       "      <td>...</td>\n",
       "      <td>0.785262</td>\n",
       "      <td>70871.0</td>\n",
       "      <td>0</td>\n",
       "      <td>4.044958</td>\n",
       "      <td>7.018110e-26</td>\n",
       "      <td>3.300586</td>\n",
       "      <td>0.0</td>\n",
       "      <td>-0.428711</td>\n",
       "      <td>3.733398</td>\n",
       "      <td>2.099243</td>\n",
       "    </tr>\n",
       "    <tr>\n",
       "      <th>4</th>\n",
       "      <td>4</td>\n",
       "      <td>22080379.0</td>\n",
       "      <td>1.0</td>\n",
       "      <td>31.210966</td>\n",
       "      <td>1.643532</td>\n",
       "      <td>31.210966</td>\n",
       "      <td>-2.268147</td>\n",
       "      <td>31.128443</td>\n",
       "      <td>0.0</td>\n",
       "      <td>1.0</td>\n",
       "      <td>...</td>\n",
       "      <td>0.884972</td>\n",
       "      <td>111593.0</td>\n",
       "      <td>0</td>\n",
       "      <td>3.991430</td>\n",
       "      <td>1.125046e-24</td>\n",
       "      <td>11.022686</td>\n",
       "      <td>0.0</td>\n",
       "      <td>-0.425293</td>\n",
       "      <td>2.609619</td>\n",
       "      <td>2.234009</td>\n",
       "    </tr>\n",
       "  </tbody>\n",
       "</table>\n",
       "<p>5 rows × 107 columns</p>\n",
       "</div>"
      ],
      "text/plain": [
       "   Unnamed: 0       event  run     met_pt   met_phi      met_E     met_Px  \\\n",
       "0           0  45329285.0  1.0  38.984746  0.305608  38.984745  37.178356   \n",
       "1           1  27289755.0  1.0  50.834523 -2.597592  50.834522 -43.496319   \n",
       "2           2  40361426.0  1.0  25.922679  0.368697  25.922680  24.180618   \n",
       "3           3  14023019.0  1.0  37.794698 -2.372525  37.794697 -27.157721   \n",
       "4           4  22080379.0  1.0  31.210966  1.643532  31.210966  -2.268147   \n",
       "\n",
       "      met_Py  met_Pz  is_SR  ...  total_weight        ls  considered_jets  \\\n",
       "0  11.729450     0.0    1.0  ...      0.873387  229090.0                0   \n",
       "1 -26.310055     0.0    1.0  ...      0.751147  137920.0                0   \n",
       "2   9.342539     0.0    1.0  ...      0.765145  203983.0                0   \n",
       "3 -26.284925     0.0    1.0  ...      0.785262   70871.0                0   \n",
       "4  31.128443     0.0    1.0  ...      0.884972  111593.0                0   \n",
       "\n",
       "   MEM_weight  MEM_weight_err   MEM_time  MEM_status  del_l2_phi  del_j1_phi  \\\n",
       "0    3.918931    5.435769e-23   8.468740         0.0   -5.074219   -3.013184   \n",
       "1    3.947367    2.362927e-23   5.423543         0.0   -0.043945    3.330322   \n",
       "2    3.999784    1.917346e-24   2.085152         0.0   -1.685802   -1.770477   \n",
       "3    4.044958    7.018110e-26   3.300586         0.0   -0.428711    3.733398   \n",
       "4    3.991430    1.125046e-24  11.022686         0.0   -0.425293    2.609619   \n",
       "\n",
       "   del_j2_phi  \n",
       "0   -0.196777  \n",
       "1    1.355286  \n",
       "2   -4.159668  \n",
       "3    2.099243  \n",
       "4    2.234009  \n",
       "\n",
       "[5 rows x 107 columns]"
      ]
     },
     "execution_count": 77,
     "metadata": {},
     "output_type": "execute_result"
    }
   ],
   "source": [
    "df.head()"
   ]
  },
  {
   "cell_type": "code",
   "execution_count": 501,
   "id": "bfdb66db",
   "metadata": {},
   "outputs": [
    {
     "data": {
      "text/plain": [
       "['ElEl_Resolved1Btag_nominal;1',\n",
       " 'ElEl_Resolved2Btag_nominal;1',\n",
       " 'MuMu_Resolved1Btag_nominal;1',\n",
       " 'MuMu_Resolved2Btag_nominal;1',\n",
       " 'ElMu_Resolved1Btag_nominal;1',\n",
       " 'ElMu_Resolved2Btag_nominal;1']"
      ]
     },
     "execution_count": 501,
     "metadata": {},
     "output_type": "execute_result"
    }
   ],
   "source": [
    "tree = uproot.open(\"data/DYJetsToLL_M-50.root\")\n",
    "tree.keys()"
   ]
  },
  {
   "cell_type": "code",
   "execution_count": null,
   "id": "a0721829",
   "metadata": {},
   "outputs": [],
   "source": [
    "store = {}\n",
    "for key in tree.keys():\n",
    "    store[key] = tree[key].array()"
   ]
  },
  {
   "cell_type": "code",
   "execution_count": 506,
   "id": "3b9afbd7",
   "metadata": {},
   "outputs": [],
   "source": [
    "tree = uproot.open(\"data/DYJetsToLL_M-10to50.root\")"
   ]
  },
  {
   "cell_type": "code",
   "execution_count": 507,
   "id": "a29a0488",
   "metadata": {},
   "outputs": [],
   "source": [
    "branches = ['ElEl_Resolved2Btag_nominal;1','MuMu_Resolved1Btag_nominal;1','MuMu_Resolved2Btag_nominal;1','ElMu_Resolved1Btag_nominal;1','ElMu_Resolved2Btag_nominal;1']\n",
    "for branch in branches:\n",
    "    for key in tree[branch].keys():\n",
    "        store[key] = ak.concatenate([store[key], (tree[branch][key].array())])"
   ]
  },
  {
   "cell_type": "code",
   "execution_count": 508,
   "id": "27b49754",
   "metadata": {},
   "outputs": [],
   "source": [
    "df = pd.DataFrame(store)"
   ]
  },
  {
   "cell_type": "code",
   "execution_count": 510,
   "id": "65a31a27",
   "metadata": {},
   "outputs": [],
   "source": [
    "df = df.dropna()"
   ]
  },
  {
   "cell_type": "code",
   "execution_count": 511,
   "id": "179868d8",
   "metadata": {},
   "outputs": [],
   "source": [
    "df = df.query('MEM_status == 0') "
   ]
  },
  {
   "cell_type": "code",
   "execution_count": 512,
   "id": "895847fb",
   "metadata": {},
   "outputs": [],
   "source": [
    "df.replace({-9999.000000: 0}, inplace=True)"
   ]
  },
  {
   "cell_type": "code",
   "execution_count": 513,
   "id": "f43ac60c",
   "metadata": {},
   "outputs": [],
   "source": [
    "def get_positive_phi(row):\n",
    "    if row['l1_charge'] > 0:\n",
    "        return row['l1_phi']\n",
    "    elif row['l2_charge'] > 0:\n",
    "        return row['l2_phi']\n",
    "    else:\n",
    "        return None"
   ]
  },
  {
   "cell_type": "code",
   "execution_count": 514,
   "id": "d26885c1",
   "metadata": {},
   "outputs": [],
   "source": [
    "df['positive_phi'] = df.apply(get_positive_phi, axis=1)"
   ]
  },
  {
   "cell_type": "code",
   "execution_count": 515,
   "id": "cebbd0b3",
   "metadata": {},
   "outputs": [],
   "source": [
    "for particle in [\"l1\", \"l2\", \"j1\",\"j2\", \"j3\", \"j4\"]:\n",
    "    df[f'del_{particle}_phi'] = (df[f'{particle}_phi'] -  df['positive_phi'])"
   ]
  },
  {
   "cell_type": "code",
   "execution_count": 517,
   "id": "3158a86a",
   "metadata": {},
   "outputs": [],
   "source": [
    "df['MEM_weight'] = (-np.log10(df['MEM_weight']))"
   ]
  },
  {
   "cell_type": "code",
   "execution_count": 518,
   "id": "8699b831",
   "metadata": {},
   "outputs": [
    {
     "data": {
      "text/plain": [
       "<AxesSubplot:>"
      ]
     },
     "execution_count": 518,
     "metadata": {},
     "output_type": "execute_result"
    },
    {
     "data": {
      "image/png": "[encoded data removed]",
      "text/plain": [
       "<Figure size 432x288 with 1 Axes>"
      ]
     },
     "metadata": {
      "needs_background": "light"
     },
     "output_type": "display_data"
    }
   ],
   "source": [
    "df['MEM_weight'].hist( histtype='step')"
   ]
  },
  {
   "cell_type": "code",
   "execution_count": 519,
   "id": "1c2347b3",
   "metadata": {},
   "outputs": [],
   "source": [
    "\n",
    "\n",
    "X = df.loc[:, ['l1_pt', 'l2_pt','j1_pt','j2_pt','j3_pt','j4_pt',\n",
    "               'l1_eta', 'l2_eta', 'j1_eta', 'j2_eta', 'j3_eta', 'j4_eta',\n",
    "               'del_l1_phi', 'del_l2_phi', 'del_j1_phi', 'del_j2_phi', 'del_j3_phi', 'del_j4_phi']].values.astype(np.float32)\n",
    "\n",
    "\n",
    "\n"
   ]
  },
  {
   "cell_type": "code",
   "execution_count": 520,
   "id": "35d31569",
   "metadata": {},
   "outputs": [],
   "source": [
    "y = df['MEM_weight'].values.astype(np.float32)"
   ]
  },
  {
   "cell_type": "code",
   "execution_count": 521,
   "id": "06101e4b",
   "metadata": {},
   "outputs": [],
   "source": [
    "scaler_x, scaler_y = StandardScaler(), StandardScaler()"
   ]
  },
  {
   "cell_type": "code",
   "execution_count": 522,
   "id": "078ee8db",
   "metadata": {},
   "outputs": [],
   "source": [
    "X = scaler_x.fit_transform(X)\n",
    "y = scaler_y.fit_transform(y.reshape(-1,1))"
   ]
  },
  {
   "cell_type": "code",
   "execution_count": 534,
   "id": "fe6cc1b6",
   "metadata": {},
   "outputs": [],
   "source": [
    "X_train, X_test, y_train, y_test = train_test_split(X, y, test_size=0.15, shuffle=True)"
   ]
  },
  {
   "cell_type": "code",
   "execution_count": 535,
   "id": "d478799b",
   "metadata": {},
   "outputs": [
    {
     "data": {
      "text/plain": [
       "False"
      ]
     },
     "execution_count": 535,
     "metadata": {},
     "output_type": "execute_result"
    }
   ],
   "source": [
    "np.isnan(y_train).any()"
   ]
  },
  {
   "cell_type": "code",
   "execution_count": 536,
   "id": "3c55158b",
   "metadata": {},
   "outputs": [],
   "source": [
    "import torch\n",
    "import torch.nn as nn\n",
    "import torch.optim as optim\n",
    "import pytorch_lightning as pl\n",
    "from torch.utils.data import DataLoader, random_split, TensorDataset\n",
    "import torch.nn.functional as F\n",
    "\n",
    "class ValidationLossCallback(pl.Callback):\n",
    "    def on_validation_epoch_end(self, trainer, pl_module):\n",
    "        validation_loss = trainer.callback_metrics.get('val_loss')\n",
    "        \n",
    "\n",
    "class GaussianLoss(nn.Module):\n",
    "    def __init__(self):\n",
    "        super(CustomLoss, self).__init__()\n",
    "\n",
    "    def forward(self, y_pred, y_true, sigma):\n",
    "        squared_diff = torch.pow(y_pred - y_true, 2)\n",
    "\n",
    "        loss = squared_diff / torch.pow(sigma, 2)\n",
    "\n",
    "        return loss.mean()\n",
    "        \n",
    "\n",
    "class RegressionModel(pl.LightningModule):\n",
    "    def __init__(self, input_dim, hidden_dim, hidden_dim_2, hidden_dim_3,hidden_dim_4, hidden_dim_5, output_dim):\n",
    "        super(RegressionModel, self).__init__()\n",
    "        self.input_dim = input_dim\n",
    "        self.hidden_dim = hidden_dim\n",
    "        self.output_dim = output_dim\n",
    "\n",
    "        self.fc1 = nn.Linear(input_dim, hidden_dim)\n",
    "        self.fc2 = nn.Linear(hidden_dim, hidden_dim_2)\n",
    "        self.fc3 = nn.Linear(hidden_dim_2, hidden_dim_3)\n",
    "        self.fc4 = nn.Linear(hidden_dim_3, hidden_dim_4)\n",
    "        self.fc5 = nn.Linear(hidden_dim_4, hidden_dim_5)\n",
    "        self.fc6 = nn.Linear(hidden_dim_5, output_dim)\n",
    "\n",
    "    def forward(self, x):\n",
    "        x = torch.relu(self.fc1(x))\n",
    "        x = torch.relu(self.fc2(x)) \n",
    "        x = torch.relu(self.fc3(x)) \n",
    "        x = torch.relu(self.fc4(x)) \n",
    "        x = torch.relu(self.fc5(x)) \n",
    "        return self.fc6(x)\n",
    "\n",
    "    def training_step(self, batch, batch_idx):\n",
    "        x, y = batch\n",
    "        y_pred = self(x)\n",
    "        #criterion = GaussianLoss()\n",
    "        #loss = criterion(y_pred, y_true, sigma)\n",
    "        loss = nn.MSELoss()\n",
    "        loss = loss(y_pred, y)\n",
    "        return loss\n",
    "    \n",
    "    def validation_step(self, batch, batch_idx):\n",
    "        x, y = batch\n",
    "        y_pred = self(x)\n",
    "        val_loss = nn.MSELoss()(y_pred, y)\n",
    "        self.log('val_loss', val_loss, prog_bar=True)\n",
    "        return val_loss\n",
    "\n",
    "    def configure_optimizers(self):\n",
    "        optimizer = optim.Adam(self.parameters(), lr=1e-3)\n",
    "        return optimizer\n"
   ]
  },
  {
   "cell_type": "code",
   "execution_count": null,
   "id": "0455db6a",
   "metadata": {
    "scrolled": false
   },
   "outputs": [
    {
     "name": "stderr",
     "output_type": "stream",
     "text": [
      "GPU available: True (cuda), used: True\n",
      "TPU available: False, using: 0 TPU cores\n",
      "IPU available: False, using: 0 IPUs\n",
      "HPU available: False, using: 0 HPUs\n",
      "/cvmfs/sft.cern.ch/lcg/views/LCG_103cuda/x86_64-centos7-gcc11-opt/lib/python3.9/site-packages/pytorch_lightning/trainer/configuration_validator.py:108: PossibleUserWarning: You defined a `validation_step` but have no `val_dataloader`. Skipping val loop.\n",
      "  rank_zero_warn(\n",
      "LOCAL_RANK: 0 - CUDA_VISIBLE_DEVICES: [0]\n",
      "\n",
      "  | Name | Type   | Params\n",
      "--------------------------------\n",
      "0 | fc1  | Linear | 1.2 K \n",
      "1 | fc2  | Linear | 8.3 K \n",
      "2 | fc3  | Linear | 4.1 K \n",
      "3 | fc4  | Linear | 528   \n",
      "4 | fc5  | Linear | 68    \n",
      "5 | fc6  | Linear | 5     \n",
      "--------------------------------\n",
      "14.3 K    Trainable params\n",
      "0         Non-trainable params\n",
      "14.3 K    Total params\n",
      "0.057     Total estimated model params size (MB)\n"
     ]
    },
    {
     "data": {
      "application/vnd.jupyter.widget-view+json": {
       "model_id": "97448b34f6f64e38be492d11745e017f",
       "version_major": 2,
       "version_minor": 0
      },
      "text/plain": [
       "Training: 0it [00:00, ?it/s]"
      ]
     },
     "metadata": {},
     "output_type": "display_data"
    }
   ],
   "source": [
    "train_size = int(0.8 * y_train.shape[0])\n",
    "train_dataset = TensorDataset(torch.tensor(X_train[:train_size]), torch.tensor(y_train[:train_size]))\n",
    "val_dataset = TensorDataset(torch.tensor(X_train[train_size:]), torch.tensor(y_train[train_size:]))\n",
    "\n",
    "class RegressionDataModule(pl.LightningDataModule):\n",
    "    def __init__(self, train_dataset, val_dataset, batch_size=64):\n",
    "        super(RegressionDataModule, self).__init__()\n",
    "        self.train_dataset = train_dataset\n",
    "        self.val_dataset = val_dataset\n",
    "        self.batch_size = batch_size\n",
    "\n",
    "    def train_dataloader(self):\n",
    "        return DataLoader(self.train_dataset, batch_size=self.batch_size, shuffle=True, num_workers=16)\n",
    "\n",
    "    def val_dataloader(self):\n",
    "        return DataLoader(self.val_dataset, batch_size=self.batch_size, num_workers=16)\n",
    "\n",
    "\n",
    "data_module = RegressionDataModule(train_dataset, val_dataset)\n",
    "\n",
    "\n",
    "model = RegressionModel(input_dim=X.shape[1], hidden_dim=128, hidden_dim_2=64, hidden_dim_3=32, hidden_dim_4=16, hidden_dim_5=4, output_dim=1)\n",
    "\n",
    "\n",
    "early_stopping_callback = EarlyStopping(monitor='val_loss', patience=3, mode='min')\n",
    "\n",
    "\n",
    "trainer = pl.Trainer(max_epochs=100, gpus=1 if torch.cuda.is_available() else 0, callbacks=[ValidationLossCallback(), early_stopping_callback])\n",
    "\n",
    "\n",
    "trainer.fit(model, data_module)\n"
   ]
  },
  {
   "cell_type": "code",
   "execution_count": 530,
   "id": "fed658f1",
   "metadata": {},
   "outputs": [],
   "source": [
    "input_tensor = torch.tensor(X_test, dtype=torch.float32)\n",
    "\n",
    "model.eval()\n",
    "\n",
    "with torch.no_grad():  \n",
    "    predictions = model(input_tensor)\n",
    "\n",
    "predictions = predictions.numpy()"
   ]
  },
  {
   "cell_type": "code",
   "execution_count": 531,
   "id": "1e07b45e",
   "metadata": {},
   "outputs": [],
   "source": [
    "counts_y, bins_y = np.histogram(scaler_y.inverse_transform(y_test), bins=100)\n",
    "counts_pred, bins_pred = np.histogram(scaler_y.inverse_transform(predictions), bins=100)"
   ]
  },
  {
   "cell_type": "code",
   "execution_count": 532,
   "id": "7d1f9d50",
   "metadata": {},
   "outputs": [
    {
     "data": {
      "text/plain": [
       "<matplotlib.legend.Legend at 0x7ff140b20a00>"
      ]
     },
     "execution_count": 532,
     "metadata": {},
     "output_type": "execute_result"
    },
    {
     "data": {
      "image/png": "[encoded data removed]",
      "text/plain": [
       "<Figure size 432x288 with 1 Axes>"
      ]
     },
     "metadata": {
      "needs_background": "light"
     },
     "output_type": "display_data"
    }
   ],
   "source": [
    "plt.hist(bins_y[:-1], bins_y, weights=counts_y, histtype='step', label='True')\n",
    "plt.hist(bins_pred[:-1], bins_pred, weights=counts_pred, histtype='step', label='pred')\n",
    "plt.legend()"
   ]
  },
  {
   "cell_type": "code",
   "execution_count": null,
   "id": "0fbdc858",
   "metadata": {},
   "outputs": [],
   "source": []
  }
 ],
 "metadata": {
  "@webio": {
   "lastCommId": null,
   "lastKernelId": null
  },
  "kernelspec": {
   "display_name": "Python 3",
   "language": "python",
   "name": "python3"
  },
  "language_info": {
   "codemirror_mode": {
    "name": "ipython",
    "version": 3
   },
   "file_extension": ".py",
   "mimetype": "text/x-python",
   "name": "python",
   "nbconvert_exporter": "python",
   "pygments_lexer": "ipython3",
   "version": "3.9.12"
  }
 },
 "nbformat": 4,
 "nbformat_minor": 5
}
